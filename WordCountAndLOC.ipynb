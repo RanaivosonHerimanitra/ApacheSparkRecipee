{
 "cells": [
  {
   "cell_type": "markdown",
   "metadata": {},
   "source": [
    "## import de package"
   ]
  },
  {
   "cell_type": "code",
   "execution_count": 17,
   "metadata": {
    "collapsed": true
   },
   "outputs": [],
   "source": [
    "spark\n",
    "from pyspark.sql import Row\n",
    "from pyspark.sql.functions import monotonically_increasing_id\n",
    "from pyspark.sql.functions import split, explode\n",
    "from pyspark.sql.functions import udf\n",
    "from pyspark.sql.functions import col\n",
    "from pyspark.sql.types import *\n",
    "import matplotlib.pyplot as plt\n",
    "import numpy as np\n",
    "import pylab as P\n",
    "import pandas as pd\n",
    "from operator import add\n",
    "plt.rcdefaults()\n",
    "import sys\n",
    "sys.stdout = open('/dev/stdout', 'w')"
   ]
  },
  {
   "cell_type": "markdown",
   "metadata": {},
   "source": [
    "## Lecture de l'échantillon de données de wikipedia:"
   ]
  },
  {
   "cell_type": "code",
   "execution_count": 18,
   "metadata": {
    "collapsed": true
   },
   "outputs": [],
   "source": [
    "path=\"/home/herimanitra/Téléchargements/data-master/mapreduce/wikipedia.dat\"\n",
    "mytext = sc.textFile(path)"
   ]
  },
  {
   "cell_type": "markdown",
   "metadata": {},
   "source": [
    "## Count words:"
   ]
  },
  {
   "cell_type": "code",
   "execution_count": 19,
   "metadata": {
    "collapsed": true
   },
   "outputs": [],
   "source": [
    "counts = mytext.flatMap(lambda x: x.split(' ')).map(lambda x: (x, 1)).reduceByKey(add)\n",
    "output = counts.collect()\n",
    "for (word, count) in output:\n",
    "    print (\"%s: %i\" % (word.encode('utf-8'),count) )"
   ]
  },
  {
   "cell_type": "markdown",
   "metadata": {
    "collapsed": true
   },
   "source": [
    "# Exemple plus élaboré avec un comptage du nombre de méthode de programme java:"
   ]
  },
  {
   "cell_type": "markdown",
   "metadata": {},
   "source": [
    "### Input:\n",
    "  * Source code java de la fondation Apache entre 2011 - 2016\n",
    "  \n",
    "### Output:\n",
    "  * Extraction des méthodes dans tous les programmes pour quelques logiciels Apache."
   ]
  },
  {
   "cell_type": "markdown",
   "metadata": {},
   "source": [
    "### lecture et apercue (2.25s)"
   ]
  },
  {
   "cell_type": "code",
   "execution_count": 20,
   "metadata": {},
   "outputs": [],
   "source": [
    "def readMySourceCodeWithSpark():\n",
    "    folder=\"/home/herimanitra/Téléchargements/data-master/apache20*.csv.gz\"\n",
    "    mydata = spark.read.csv(folder, header=True, inferSchema=True)\n",
    "    return mydata\n",
    "%prun  mydata=readMySourceCodeWithSpark()"
   ]
  },
  {
   "cell_type": "code",
   "execution_count": 21,
   "metadata": {
    "collapsed": true
   },
   "outputs": [],
   "source": [
    "mydata.select([\"content\",\"sample_repo_name\",\"avg_commiter_timestamp\",\"sample_path\"]).show()"
   ]
  },
  {
   "cell_type": "markdown",
   "metadata": {},
   "source": [
    "### schema du fichier de données"
   ]
  },
  {
   "cell_type": "code",
   "execution_count": 22,
   "metadata": {
    "collapsed": true
   },
   "outputs": [],
   "source": [
    "mydata.printSchema()"
   ]
  },
  {
   "cell_type": "markdown",
   "metadata": {},
   "source": [
    "### Combien y-a-t-il de projets logiciels?"
   ]
  },
  {
   "cell_type": "code",
   "execution_count": 23,
   "metadata": {
    "collapsed": true
   },
   "outputs": [],
   "source": [
    "projects=mydata.select([\"sample_repo_name\"]).toPandas()['sample_repo_name'].unique()\n",
    "print projects"
   ]
  },
  {
   "cell_type": "markdown",
   "metadata": {},
   "source": [
    "### Sélectionne quelques projets qui nous intéressent:"
   ]
  },
  {
   "cell_type": "code",
   "execution_count": 24,
   "metadata": {
    "collapsed": true
   },
   "outputs": [],
   "source": [
    "mydata.where((col('sample_repo_name')=='apache/activemq-artemis') |\n",
    "             (col('sample_repo_name')=='apache/activemq-openwire') |\n",
    "             (col('sample_repo_name')=='apache/commons-dbutils') |\n",
    "             (col('sample_repo_name')=='apache/commons-vfs') |\n",
    "            (col('sample_repo_name')=='apache/ignite') ).show()"
   ]
  },
  {
   "cell_type": "markdown",
   "metadata": {},
   "source": [
    "### Nombre de LOC pour une sélection de projets (moins d'1s)"
   ]
  },
  {
   "cell_type": "code",
   "execution_count": 25,
   "metadata": {
    "collapsed": true
   },
   "outputs": [],
   "source": [
    "name = 'line'\n",
    "udf = udf(lambda x: ' '.join(x.split()), StringType())\n",
    "def LOC_distributed(name,udf):\n",
    "    X =mydata.where((col('sample_repo_name')=='apache/activemq-artemis') |\n",
    "                (col('sample_repo_name')=='apache/activemq-openwire') |\n",
    "                (col('sample_repo_name')=='apache/commons-dbutils') |\n",
    "                (col('sample_repo_name')=='apache/commons-vfs') |\n",
    "                (col('sample_repo_name')=='apache/ignite') ).select( *[udf(column).alias(name) if column == name else column for column in ['sample_repo_name','content'] ])\n",
    "    #split by line:\n",
    "    X2=X.select(explode(split(col(\"content\"), \"pointvirgule\")).alias(\"line\"),col(\"sample_repo_name\"))\n",
    "    return X2.groupBy('sample_repo_name').count()\n",
    "%prun X4= LOC_distributed(name,udf)"
   ]
  },
  {
   "cell_type": "markdown",
   "metadata": {},
   "source": [
    "#########################################################################################################################"
   ]
  },
  {
   "cell_type": "markdown",
   "metadata": {},
   "source": [
    "## Lecture non distribuée avec python et la librairie pandas"
   ]
  },
  {
   "cell_type": "code",
   "execution_count": 26,
   "metadata": {
    "collapsed": true
   },
   "outputs": [],
   "source": [
    "def readMySourceCode():\n",
    "    folder=\"/home/herimanitra/Téléchargements/data-master/\"\n",
    "    data1=\"apache2011000000000000.csv.gz\"\n",
    "    data2=\"apache2012000000000000.csv.gz\"\n",
    "    data3=\"apache2013000000000000.csv.gz\"\n",
    "    data4=\"apache2014000000000000.csv.gz\"\n",
    "    data5= \"apache2015000000000000.csv.gz\"\n",
    "    data6= \"apache2016000000000000.csv.gz\"\n",
    "    X = pd.read_csv(folder+data1)\n",
    "    for dt in [data2,data3,data4,data5,data6]:\n",
    "        temp=pd.read_csv(folder+dt)\n",
    "        X= X.append(temp)\n",
    "    return X"
   ]
  },
  {
   "cell_type": "markdown",
   "metadata": {},
   "source": [
    "## 8.85s en temps de lecture"
   ]
  },
  {
   "cell_type": "code",
   "execution_count": 27,
   "metadata": {
    "collapsed": true
   },
   "outputs": [],
   "source": [
    "%prun X=readMySourceCode()"
   ]
  },
  {
   "cell_type": "markdown",
   "metadata": {},
   "source": [
    "### Nombre de LOC pour une sélection de projets: 0.72s"
   ]
  },
  {
   "cell_type": "code",
   "execution_count": 28,
   "metadata": {
    "collapsed": true
   },
   "outputs": [],
   "source": [
    "def LOC():\n",
    "    #selectionne les projets d'interets:\n",
    "    df1=X.loc[(X['sample_repo_name']=='apache/activemq-artemis') | \n",
    "               (X['sample_repo_name']=='apache/activemq-openwire') |\n",
    "               (X['sample_repo_name']=='apache/commons-dbutils') |\n",
    "               (X['sample_repo_name']=='apache/commons-vfs') |\n",
    "               (X['sample_repo_name']=='apache/ignite')][['content','sample_repo_name']]\n",
    "    df2= pd.concat([pd.Series(row['sample_repo_name'],row['content'].split('pointvirgule')) for _, row in df1.iterrows()]).reset_index()\n",
    "    df2.columns = ['line','sample_repo_name']\n",
    "    df3=df2.groupby('sample_repo_name').agg({'line': len})\n",
    "    return df3\n",
    "    \n",
    "%prun summaryLOC=  LOC()"
   ]
  },
  {
   "cell_type": "code",
   "execution_count": 29,
   "metadata": {},
   "outputs": [
    {
     "data": {
      "text/html": [
       "<div>\n",
       "<table border=\"1\" class=\"dataframe\">\n",
       "  <thead>\n",
       "    <tr style=\"text-align: right;\">\n",
       "      <th></th>\n",
       "      <th>line</th>\n",
       "    </tr>\n",
       "    <tr>\n",
       "      <th>sample_repo_name</th>\n",
       "      <th></th>\n",
       "    </tr>\n",
       "  </thead>\n",
       "  <tbody>\n",
       "    <tr>\n",
       "      <th>apache/activemq-artemis</th>\n",
       "      <td>28281</td>\n",
       "    </tr>\n",
       "    <tr>\n",
       "      <th>apache/activemq-openwire</th>\n",
       "      <td>35552</td>\n",
       "    </tr>\n",
       "    <tr>\n",
       "      <th>apache/commons-dbutils</th>\n",
       "      <td>1225</td>\n",
       "    </tr>\n",
       "    <tr>\n",
       "      <th>apache/commons-vfs</th>\n",
       "      <td>2514</td>\n",
       "    </tr>\n",
       "    <tr>\n",
       "      <th>apache/ignite</th>\n",
       "      <td>23543</td>\n",
       "    </tr>\n",
       "  </tbody>\n",
       "</table>\n",
       "</div>"
      ],
      "text/plain": [
       "                           line\n",
       "sample_repo_name               \n",
       "apache/activemq-artemis   28281\n",
       "apache/activemq-openwire  35552\n",
       "apache/commons-dbutils     1225\n",
       "apache/commons-vfs         2514\n",
       "apache/ignite             23543"
      ]
     },
     "execution_count": 29,
     "metadata": {},
     "output_type": "execute_result"
    }
   ],
   "source": [
    "summaryLOC"
   ]
  },
  {
   "cell_type": "code",
   "execution_count": null,
   "metadata": {
    "collapsed": true
   },
   "outputs": [],
   "source": []
  }
 ],
 "metadata": {
  "kernelspec": {
   "display_name": "Python 2",
   "language": "python",
   "name": "python2"
  },
  "language_info": {
   "codemirror_mode": {
    "name": "ipython",
    "version": 2
   },
   "file_extension": ".py",
   "mimetype": "text/x-python",
   "name": "python",
   "nbconvert_exporter": "python",
   "pygments_lexer": "ipython2",
   "version": "2.7.10"
  }
 },
 "nbformat": 4,
 "nbformat_minor": 2
}
